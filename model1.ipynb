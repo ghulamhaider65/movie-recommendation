{
 "cells": [
  {
   "cell_type": "code",
   "id": "initial_id",
   "metadata": {
    "collapsed": true,
    "ExecuteTime": {
     "end_time": "2025-03-06T09:39:23.246453Z",
     "start_time": "2025-03-06T09:39:17.468130Z"
    }
   },
   "source": [
    "import pandas as pd\n",
    "import ast\n",
    "import pickle\n",
    "import nltk\n",
    "from nltk.stem.porter import PorterStemmer\n",
    "from sklearn.feature_extraction.text import CountVectorizer\n",
    "from sklearn.metrics.pairwise import cosine_similarity\n",
    "from scipy.sparse import save_npz, load_npz, csr_matrix"
   ],
   "outputs": [],
   "execution_count": 1
  },
  {
   "metadata": {
    "ExecuteTime": {
     "end_time": "2025-03-06T09:39:39.385170Z",
     "start_time": "2025-03-06T09:39:38.411330Z"
    }
   },
   "cell_type": "code",
   "source": [
    "movies = pd.read_csv('tmdb_5000_movies.csv')\n",
    "credits = pd.read_csv('tmdb_5000_credits.csv')\n",
    "movies = movies.merge(credits, on='title')\n",
    "movies = movies[['id', 'title', 'overview', 'genres', 'keywords', 'cast', 'crew']]\n",
    "movies.dropna(inplace=True)"
   ],
   "id": "acfa3bf7f833a607",
   "outputs": [],
   "execution_count": 2
  },
  {
   "metadata": {
    "ExecuteTime": {
     "end_time": "2025-03-06T09:40:28.286265Z",
     "start_time": "2025-03-06T09:40:28.274676Z"
    }
   },
   "cell_type": "code",
   "source": [
    "def convert(obj):\n",
    "    return [i['name'] for i in ast.literal_eval(obj)]\n",
    "\n",
    "def convert3(obj):\n",
    "    return [i['name'] for i in ast.literal_eval(obj)[:3]]\n",
    "\n",
    "def fetch_director(obj):\n",
    "    for i in ast.literal_eval(obj):\n",
    "        if i['job'] == 'Director':\n",
    "            return [i['name']]\n",
    "    return []"
   ],
   "id": "baa1c3f17703662a",
   "outputs": [],
   "execution_count": 4
  },
  {
   "metadata": {
    "ExecuteTime": {
     "end_time": "2025-03-06T09:41:04.618317Z",
     "start_time": "2025-03-06T09:40:49.649754Z"
    }
   },
   "cell_type": "code",
   "source": [
    "movies['genres'] = movies['genres'].apply(convert)\n",
    "movies['keywords'] = movies['keywords'].apply(convert)\n",
    "movies['cast'] = movies['cast'].apply(convert3)\n",
    "movies['crew'] = movies['crew'].apply(fetch_director)"
   ],
   "id": "8160de5d88209cab",
   "outputs": [],
   "execution_count": 5
  },
  {
   "metadata": {
    "ExecuteTime": {
     "end_time": "2025-03-06T09:41:36.509838Z",
     "start_time": "2025-03-06T09:41:36.201534Z"
    }
   },
   "cell_type": "code",
   "source": [
    "movies['overview'] = movies['overview'].apply(lambda x: x.split())\n",
    "movies['genres'] = movies['genres'].apply(lambda x: [i.replace(\" \", \"\") for i in x])\n",
    "movies['keywords'] = movies['keywords'].apply(lambda x: [i.replace(\" \", \"\") for i in x])\n",
    "movies['cast'] = movies['cast'].apply(lambda x: [i.replace(\" \", \"\") for i in x])\n",
    "movies['crew'] = movies['crew'].apply(lambda x: [i.replace(\" \", \"\") for i in x])\n",
    "\n",
    "movies['tags'] = movies['overview'] + movies['genres'] + movies['keywords'] + movies['cast'] + movies['crew']\n",
    "new_df = movies[['id', 'title', 'tags']]\n",
    "new_df['tags'] = new_df['tags'].apply(lambda x: \" \".join(x).lower())"
   ],
   "id": "e53d0efac60a21b6",
   "outputs": [
    {
     "name": "stderr",
     "output_type": "stream",
     "text": [
      "C:\\Users\\ghula\\AppData\\Local\\Temp\\ipykernel_8996\\1790109892.py:9: SettingWithCopyWarning: \n",
      "A value is trying to be set on a copy of a slice from a DataFrame.\n",
      "Try using .loc[row_indexer,col_indexer] = value instead\n",
      "\n",
      "See the caveats in the documentation: https://pandas.pydata.org/pandas-docs/stable/user_guide/indexing.html#returning-a-view-versus-a-copy\n",
      "  new_df['tags'] = new_df['tags'].apply(lambda x: \" \".join(x).lower())\n"
     ]
    }
   ],
   "execution_count": 6
  },
  {
   "metadata": {
    "ExecuteTime": {
     "end_time": "2025-03-06T09:42:04.859679Z",
     "start_time": "2025-03-06T09:41:55.818290Z"
    }
   },
   "cell_type": "code",
   "source": [
    "ps = PorterStemmer()\n",
    "def stem(text):\n",
    "    return \" \".join([ps.stem(i) for i in text.split()])\n",
    "\n",
    "new_df['tags'] = new_df['tags'].apply(stem)"
   ],
   "id": "5c403d78a957b9bb",
   "outputs": [
    {
     "name": "stderr",
     "output_type": "stream",
     "text": [
      "C:\\Users\\ghula\\AppData\\Local\\Temp\\ipykernel_8996\\3268251900.py:5: SettingWithCopyWarning: \n",
      "A value is trying to be set on a copy of a slice from a DataFrame.\n",
      "Try using .loc[row_indexer,col_indexer] = value instead\n",
      "\n",
      "See the caveats in the documentation: https://pandas.pydata.org/pandas-docs/stable/user_guide/indexing.html#returning-a-view-versus-a-copy\n",
      "  new_df['tags'] = new_df['tags'].apply(stem)\n"
     ]
    }
   ],
   "execution_count": 7
  },
  {
   "metadata": {
    "ExecuteTime": {
     "end_time": "2025-03-06T09:42:20.891487Z",
     "start_time": "2025-03-06T09:42:19.937356Z"
    }
   },
   "cell_type": "code",
   "source": [
    "cv = CountVectorizer(max_features=3000, stop_words='english')  # Reduced features\n",
    "vectors = cv.fit_transform(new_df['tags'])"
   ],
   "id": "5c2c7c73ae47e8e8",
   "outputs": [],
   "execution_count": 8
  },
  {
   "metadata": {
    "ExecuteTime": {
     "end_time": "2025-03-06T09:42:41.715451Z",
     "start_time": "2025-03-06T09:42:37.378259Z"
    }
   },
   "cell_type": "code",
   "source": [
    "similarity = cosine_similarity(vectors)\n",
    "similarity_sparse = csr_matrix(similarity)"
   ],
   "id": "de239db295817f79",
   "outputs": [],
   "execution_count": 9
  },
  {
   "metadata": {
    "ExecuteTime": {
     "end_time": "2025-03-06T09:46:13.097135Z",
     "start_time": "2025-03-06T09:46:04.565037Z"
    }
   },
   "cell_type": "code",
   "source": [
    "pickle.dump(new_df.to_dict(), open('movies_dict.pkl', 'wb'))\n",
    "save_npz(\"similarity.npz\", similarity_sparse)"
   ],
   "id": "9e78a472887facd7",
   "outputs": [],
   "execution_count": 10
  },
  {
   "metadata": {
    "ExecuteTime": {
     "end_time": "2025-03-06T09:46:34.088297Z",
     "start_time": "2025-03-06T09:46:34.062664Z"
    }
   },
   "cell_type": "code",
   "source": [
    "def recommend(movie):\n",
    "    movie_index = new_df[new_df['title'] == movie].index[0]\n",
    "    distances = similarity[movie_index]\n",
    "    movies_list = sorted(list(enumerate(distances)), reverse=True, key=lambda x: x[1])[1:6]\n",
    "    return [new_df.iloc[i[0]].title for i in movies_list]"
   ],
   "id": "c37927ff4c47505a",
   "outputs": [],
   "execution_count": 11
  }
 ],
 "metadata": {
  "kernelspec": {
   "display_name": "Python 3",
   "language": "python",
   "name": "python3"
  },
  "language_info": {
   "codemirror_mode": {
    "name": "ipython",
    "version": 2
   },
   "file_extension": ".py",
   "mimetype": "text/x-python",
   "name": "python",
   "nbconvert_exporter": "python",
   "pygments_lexer": "ipython2",
   "version": "2.7.6"
  }
 },
 "nbformat": 4,
 "nbformat_minor": 5
}
